{
 "cells": [
  {
   "cell_type": "markdown",
   "id": "953c6269-1498-4e02-9a1d-c1f94326ee08",
   "metadata": {},
   "source": [
    "# 0. Installation"
   ]
  },
  {
   "cell_type": "code",
   "execution_count": 6,
   "id": "95a6ccd2-24a6-4bae-9f8f-6918d4e9ec15",
   "metadata": {
    "tags": []
   },
   "outputs": [
    {
     "name": "stdout",
     "output_type": "stream",
     "text": [
      "Requirement already satisfied: ipython-sql in c:\\users\\geopa\\.conda\\envs\\gspt\\lib\\site-packages (0.3.9)\n",
      "Requirement already satisfied: sqlparse in c:\\users\\geopa\\.conda\\envs\\gspt\\lib\\site-packages (from ipython-sql) (0.4.3)\n",
      "Requirement already satisfied: ipython>=1.0 in c:\\users\\geopa\\.conda\\envs\\gspt\\lib\\site-packages (from ipython-sql) (8.5.0)\n",
      "Requirement already satisfied: ipython-genutils>=0.1.0 in c:\\users\\geopa\\.conda\\envs\\gspt\\lib\\site-packages (from ipython-sql) (0.2.0)\n",
      "Requirement already satisfied: six in c:\\users\\geopa\\.conda\\envs\\gspt\\lib\\site-packages (from ipython-sql) (1.16.0)\n",
      "Requirement already satisfied: prettytable in c:\\users\\geopa\\.conda\\envs\\gspt\\lib\\site-packages (from ipython-sql) (3.6.0)\n",
      "Requirement already satisfied: sqlalchemy>=0.6.7 in c:\\users\\geopa\\.conda\\envs\\gspt\\lib\\site-packages (from ipython-sql) (1.4.39)\n",
      "Requirement already satisfied: backcall in c:\\users\\geopa\\.conda\\envs\\gspt\\lib\\site-packages (from ipython>=1.0->ipython-sql) (0.2.0)\n",
      "Requirement already satisfied: pickleshare in c:\\users\\geopa\\.conda\\envs\\gspt\\lib\\site-packages (from ipython>=1.0->ipython-sql) (0.7.5)\n",
      "Requirement already satisfied: colorama in c:\\users\\geopa\\.conda\\envs\\gspt\\lib\\site-packages (from ipython>=1.0->ipython-sql) (0.4.5)\n",
      "Requirement already satisfied: matplotlib-inline in c:\\users\\geopa\\.conda\\envs\\gspt\\lib\\site-packages (from ipython>=1.0->ipython-sql) (0.1.6)\n",
      "Requirement already satisfied: decorator in c:\\users\\geopa\\.conda\\envs\\gspt\\lib\\site-packages (from ipython>=1.0->ipython-sql) (5.1.1)\n",
      "Requirement already satisfied: stack-data in c:\\users\\geopa\\.conda\\envs\\gspt\\lib\\site-packages (from ipython>=1.0->ipython-sql) (0.5.1)\n",
      "Requirement already satisfied: prompt-toolkit<3.1.0,>3.0.1 in c:\\users\\geopa\\.conda\\envs\\gspt\\lib\\site-packages (from ipython>=1.0->ipython-sql) (3.0.31)\n",
      "Requirement already satisfied: jedi>=0.16 in c:\\users\\geopa\\.conda\\envs\\gspt\\lib\\site-packages (from ipython>=1.0->ipython-sql) (0.18.1)\n",
      "Requirement already satisfied: pygments>=2.4.0 in c:\\users\\geopa\\.conda\\envs\\gspt\\lib\\site-packages (from ipython>=1.0->ipython-sql) (2.13.0)\n",
      "Requirement already satisfied: traitlets>=5 in c:\\users\\geopa\\.conda\\envs\\gspt\\lib\\site-packages (from ipython>=1.0->ipython-sql) (5.9.0)\n",
      "Requirement already satisfied: parso<0.9.0,>=0.8.0 in c:\\users\\geopa\\.conda\\envs\\gspt\\lib\\site-packages (from jedi>=0.16->ipython>=1.0->ipython-sql) (0.8.3)\n",
      "Requirement already satisfied: wcwidth in c:\\users\\geopa\\.conda\\envs\\gspt\\lib\\site-packages (from prompt-toolkit<3.1.0,>3.0.1->ipython>=1.0->ipython-sql) (0.2.5)\n",
      "Requirement already satisfied: greenlet!=0.4.17 in c:\\users\\geopa\\.conda\\envs\\gspt\\lib\\site-packages (from sqlalchemy>=0.6.7->ipython-sql) (2.0.1)\n",
      "Requirement already satisfied: pure-eval in c:\\users\\geopa\\.conda\\envs\\gspt\\lib\\site-packages (from stack-data->ipython>=1.0->ipython-sql) (0.2.2)\n",
      "Requirement already satisfied: asttokens in c:\\users\\geopa\\.conda\\envs\\gspt\\lib\\site-packages (from stack-data->ipython>=1.0->ipython-sql) (2.0.8)\n",
      "Requirement already satisfied: executing in c:\\users\\geopa\\.conda\\envs\\gspt\\lib\\site-packages (from stack-data->ipython>=1.0->ipython-sql) (1.1.1)\n"
     ]
    }
   ],
   "source": [
    "!pip install ipython-sql"
   ]
  },
  {
   "cell_type": "markdown",
   "id": "a61acb6f-cef5-4955-bcca-9b7a87b5793c",
   "metadata": {},
   "source": [
    "# 1. Introduction"
   ]
  },
  {
   "cell_type": "code",
   "execution_count": 10,
   "id": "a632e95c-db49-44ce-a273-bed758f7c3d9",
   "metadata": {
    "tags": []
   },
   "outputs": [],
   "source": [
    "%%capture\n",
    "%load_ext sql\n",
    "%sql sqlite:///factbook.db"
   ]
  },
  {
   "cell_type": "markdown",
   "id": "caf6cfbf-1586-4488-b363-ed0bac32f6bb",
   "metadata": {},
   "source": [
    "# 2. Overview of the Data"
   ]
  },
  {
   "cell_type": "code",
   "execution_count": 18,
   "id": "ad9a8819-582f-4bc4-9824-95dec473c008",
   "metadata": {
    "tags": []
   },
   "outputs": [
    {
     "name": "stdout",
     "output_type": "stream",
     "text": [
      " * sqlite:///factbook.db\n",
      "(sqlite3.OperationalError) no such table: facts\n",
      "[SQL: SELECT *\n",
      "  FROM facts\n",
      " LIMIT 5;]\n",
      "(Background on this error at: https://sqlalche.me/e/14/e3q8)\n"
     ]
    }
   ],
   "source": [
    "%%sql\n",
    "SELECT *\n",
    "  FROM facts\n",
    " LIMIT 5;"
   ]
  },
  {
   "cell_type": "markdown",
   "id": "481d246d-736a-4491-ae0b-fa17d1aff898",
   "metadata": {
    "tags": []
   },
   "source": [
    "#### Here are the descriptions for some of the columns:\n",
    "\n",
    "###### name — the name of the country.\n",
    "###### area — the total land and sea area of the country.\n",
    "###### population — the country's population.\n",
    "###### population_growth— the country's population growth as a percentage.\n",
    "###### birth_rate — the country's birth rate, or the number of births a year per 1,000 people.\n",
    "###### death_rate — the country's death rate, or the number of death a year per 1,000 people.\n",
    "###### area— the country's total area (both land and water).\n",
    "###### area_land — the country's land area in square kilometers.\n",
    "###### area_water — the country's water area in square kilometers.\n",
    "#### Let's start by calculating some summary statistics and see what they tell us."
   ]
  },
  {
   "cell_type": "markdown",
   "id": "9c0c61b8-9e66-49cd-a3eb-4ec96afa86aa",
   "metadata": {},
   "source": [
    "# 3. Summary Statistics"
   ]
  },
  {
   "cell_type": "code",
   "execution_count": 19,
   "id": "c79c98fa-7b4e-469b-875e-520469ba4beb",
   "metadata": {
    "tags": []
   },
   "outputs": [
    {
     "name": "stdout",
     "output_type": "stream",
     "text": [
      " * sqlite:///factbook.db\n",
      "(sqlite3.OperationalError) no such table: facts\n",
      "[SQL: SELECT MIN(population) AS min_pop,\n",
      "       MAX(population) AS max_pop,\n",
      "       MIN(population_growth) AS min_pop_growth,\n",
      "       MAX(population_growth) max_pop_growth \n",
      "  FROM facts;]\n",
      "(Background on this error at: https://sqlalche.me/e/14/e3q8)\n"
     ]
    }
   ],
   "source": [
    "%%sql\n",
    "SELECT MIN(population) AS min_pop,\n",
    "       MAX(population) AS max_pop,\n",
    "       MIN(population_growth) AS min_pop_growth,\n",
    "       MAX(population_growth) max_pop_growth \n",
    "  FROM facts;"
   ]
  },
  {
   "cell_type": "markdown",
   "id": "0f80f9bd-1e14-4848-9c5f-64933e7917fc",
   "metadata": {},
   "source": [
    "#### A few things are interesting in the summary statistics on the previous screen:\n",
    "\n",
    "###### -There's a country with a population of 0.\n",
    "###### -There's a country with a population of 7256490011 (or more than 7.2 billion people).\n",
    "#### Let's use subqueries to concentrate on these countries without using the specific values."
   ]
  },
  {
   "cell_type": "markdown",
   "id": "9f711406-ea91-4982-8407-445a9c1b42c1",
   "metadata": {},
   "source": [
    "# 4. Exploring Outliers"
   ]
  },
  {
   "cell_type": "code",
   "execution_count": 20,
   "id": "66d84902-f7d7-4cff-9b99-d7d05c098269",
   "metadata": {
    "tags": []
   },
   "outputs": [
    {
     "name": "stdout",
     "output_type": "stream",
     "text": [
      " * sqlite:///factbook.db\n",
      "(sqlite3.OperationalError) no such table: facts\n",
      "[SQL: SELECT *\n",
      "  FROM facts\n",
      " WHERE population == (SELECT MIN(population)\n",
      "                        FROM facts\n",
      "                     );]\n",
      "(Background on this error at: https://sqlalche.me/e/14/e3q8)\n"
     ]
    }
   ],
   "source": [
    "%%sql\n",
    "SELECT *\n",
    "  FROM facts\n",
    " WHERE population == (SELECT MIN(population)\n",
    "                        FROM facts\n",
    "                     );"
   ]
  },
  {
   "cell_type": "markdown",
   "id": "bcfd781b-d37e-4e2f-9756-a3c6e5c4c8c8",
   "metadata": {},
   "source": [
    "#### It seems like the table contains a row for Antarctica, which explains the population of 0. This seems to match the CIA Factbook page for Antarctica:\n",
    "\n"
   ]
  },
  {
   "cell_type": "code",
   "execution_count": 21,
   "id": "3a914e99-d9b9-4e1c-b689-158c98f57caf",
   "metadata": {
    "tags": []
   },
   "outputs": [
    {
     "name": "stdout",
     "output_type": "stream",
     "text": [
      " * sqlite:///factbook.db\n",
      "(sqlite3.OperationalError) no such table: facts\n",
      "[SQL: SELECT *\n",
      "  FROM facts\n",
      " WHERE population == (SELECT MAX(population)\n",
      "                        FROM facts\n",
      "                     );]\n",
      "(Background on this error at: https://sqlalche.me/e/14/e3q8)\n"
     ]
    }
   ],
   "source": [
    "%%sql\n",
    "SELECT *\n",
    "  FROM facts\n",
    " WHERE population == (SELECT MAX(population)\n",
    "                        FROM facts\n",
    "                     );"
   ]
  },
  {
   "cell_type": "markdown",
   "id": "60be224b-a341-46bc-b793-c8933c81e701",
   "metadata": {},
   "source": [
    "#### We also see that the table contains a row for the whole world, which explains the maximum population of over 7.2 billion we found earlier.\n",
    "\n",
    "#### Now that we know this, we should recalculate the summary statistics we calculated earlier, while excluding the row for the whole world."
   ]
  },
  {
   "cell_type": "markdown",
   "id": "9408967d-49d8-4127-836e-4c2c445c0adb",
   "metadata": {},
   "source": [
    "# 5. Summary Statistics Revisited\n"
   ]
  },
  {
   "cell_type": "code",
   "execution_count": 22,
   "id": "87cd689b-402e-4f42-a15f-216732db1896",
   "metadata": {
    "tags": []
   },
   "outputs": [
    {
     "name": "stdout",
     "output_type": "stream",
     "text": [
      " * sqlite:///factbook.db\n",
      "(sqlite3.OperationalError) no such table: facts\n",
      "[SQL: SELECT MIN(population) AS min_pop,\n",
      "       MAX(population) AS max_pop,\n",
      "       MIN(population_growth) AS min_pop_growth,\n",
      "       MAX(population_growth) AS max_pop_growth \n",
      "  FROM facts\n",
      " WHERE name <> 'World';]\n",
      "(Background on this error at: https://sqlalche.me/e/14/e3q8)\n"
     ]
    }
   ],
   "source": [
    "%%sql\n",
    "SELECT MIN(population) AS min_pop,\n",
    "       MAX(population) AS max_pop,\n",
    "       MIN(population_growth) AS min_pop_growth,\n",
    "       MAX(population_growth) AS max_pop_growth \n",
    "  FROM facts\n",
    " WHERE name <> 'World';"
   ]
  },
  {
   "cell_type": "markdown",
   "id": "3a9a2c97-cacb-46b5-a751-80b1bf7c5365",
   "metadata": {},
   "source": [
    "#### There's a country whose population closes in on 1.4 billion!"
   ]
  },
  {
   "cell_type": "markdown",
   "id": "39db0fa7-3ed9-493a-852e-ae644637e26a",
   "metadata": {},
   "source": [
    "# 6. Exploring Average Population and Area\n",
    "\n",
    "#### Let's explore density. Density depends on the population and the country's area. Let's look at the average values for these two columns.\n",
    "\n",
    "#### We should discard the row for the whole planet.\n"
   ]
  },
  {
   "cell_type": "code",
   "execution_count": 23,
   "id": "35900b97-64f3-41c9-b49c-dd10790644b2",
   "metadata": {
    "tags": []
   },
   "outputs": [
    {
     "name": "stdout",
     "output_type": "stream",
     "text": [
      " * sqlite:///factbook.db\n",
      "(sqlite3.OperationalError) no such table: facts\n",
      "[SQL: SELECT AVG(population) AS avg_population, AVG(area) AS avg_area\n",
      "  FROM facts\n",
      " WHERE name <> 'World';]\n",
      "(Background on this error at: https://sqlalche.me/e/14/e3q8)\n"
     ]
    }
   ],
   "source": [
    "%%sql\n",
    "SELECT AVG(population) AS avg_population, AVG(area) AS avg_area\n",
    "  FROM facts\n",
    " WHERE name <> 'World';"
   ]
  },
  {
   "cell_type": "markdown",
   "id": "e4b82d3a-bbef-48b7-a199-1522b48ac1da",
   "metadata": {},
   "source": [
    "#### We see that the average population is around 32 million and the average area is 555 thousand square kilometers.\n",
    "\n"
   ]
  },
  {
   "cell_type": "markdown",
   "id": "719aa10f-fc43-4fe2-9c5a-20eefaeddc2c",
   "metadata": {},
   "source": [
    "# 7. Finding Densely Populated Countries\n",
    "\n",
    "#### To finish, we'll build on the query above to find countries that are densely populated. We'll identify countries that have the following:\n",
    "\n",
    "###### -Above-average values for population.\n",
    "###### -Below-average values for area."
   ]
  },
  {
   "cell_type": "code",
   "execution_count": 25,
   "id": "9b25c2bf-74de-4c3f-bf47-6cc493a15e78",
   "metadata": {
    "tags": []
   },
   "outputs": [
    {
     "name": "stdout",
     "output_type": "stream",
     "text": [
      " * sqlite:///factbook.db\n",
      "(sqlite3.OperationalError) no such table: facts\n",
      "[SQL: SELECT *\n",
      "  FROM facts\n",
      " WHERE population > (SELECT AVG(population)\n",
      "                       FROM facts\n",
      "                      WHERE name <> 'World'\n",
      "                    )\n",
      "   AND area < (SELECT AVG(area)\n",
      "                 FROM facts\n",
      "                WHERE name <> 'World'\n",
      ");]\n",
      "(Background on this error at: https://sqlalche.me/e/14/e3q8)\n"
     ]
    }
   ],
   "source": [
    "%%sql\n",
    "SELECT *\n",
    "  FROM facts\n",
    " WHERE population > (SELECT AVG(population)\n",
    "                       FROM facts\n",
    "                      WHERE name <> 'World'\n",
    "                    )\n",
    "   AND area < (SELECT AVG(area)\n",
    "                 FROM facts\n",
    "                WHERE name <> 'World'\n",
    ");"
   ]
  },
  {
   "cell_type": "markdown",
   "id": "4554a163-c00c-40ab-bc30-8598a31ba54b",
   "metadata": {},
   "source": [
    "#### Some of these countries are generally known to be densely populated, so we have confidence in our results!"
   ]
  }
 ],
 "metadata": {
  "kernelspec": {
   "display_name": "Python 3 (ipykernel)",
   "language": "python",
   "name": "python3"
  },
  "language_info": {
   "codemirror_mode": {
    "name": "ipython",
    "version": 3
   },
   "file_extension": ".py",
   "mimetype": "text/x-python",
   "name": "python",
   "nbconvert_exporter": "python",
   "pygments_lexer": "ipython3",
   "version": "3.10.4"
  }
 },
 "nbformat": 4,
 "nbformat_minor": 5
}
